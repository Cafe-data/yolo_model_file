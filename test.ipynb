{
 "cells": [
  {
   "cell_type": "code",
   "execution_count": null,
   "id": "2e327a74",
   "metadata": {},
   "outputs": [],
   "source": [
    "import json\n",
    "import requests\n",
    "import numpy as np\n",
    "from PIL import Image\n",
    "\n",
    "#image = Image.open('./test1.jpg')\n",
    "#pixels = np.array(image)\n",
    "\n",
    "cap = cv2.imread('./test1.jpg')\n",
    "test1 = cv2.resize(cap,(1020,600))\n",
    "\n",
    "headers = {'Content-Type':'application/json'}\n",
    "address = \"http://127.0.0.1:5000/inference\"\n",
    "data = {'images':test1.tolist()}\n",
    "\n",
    "result = requests.post(address, data=json.dumps(data), headers=headers)\n",
    "\n",
    "print(str(result.content, encoding='utf-8'))"
   ]
  }
 ],
 "metadata": {
  "kernelspec": {
   "display_name": "Python 3 (ipykernel)",
   "language": "python",
   "name": "python3"
  },
  "language_info": {
   "codemirror_mode": {
    "name": "ipython",
    "version": 3
   },
   "file_extension": ".py",
   "mimetype": "text/x-python",
   "name": "python",
   "nbconvert_exporter": "python",
   "pygments_lexer": "ipython3",
   "version": "3.9.12"
  }
 },
 "nbformat": 4,
 "nbformat_minor": 5
}
